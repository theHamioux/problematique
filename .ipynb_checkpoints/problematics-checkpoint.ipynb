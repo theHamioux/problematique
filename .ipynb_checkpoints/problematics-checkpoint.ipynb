{
 "cells": [
  {
   "cell_type": "code",
   "execution_count": 4,
   "id": "36d81a20",
   "metadata": {},
   "outputs": [],
   "source": [
    "def eval_to_numeric(x):\n",
    "        if x=='Très satisfaisant':   return 1\n",
    "        if x=='Satisfaisant': return 2\n",
    "        if x=='A améliorer': return 3"
   ]
  },
  {
   "cell_type": "code",
   "execution_count": 5,
   "id": "ebca17f1",
   "metadata": {},
   "outputs": [
    {
     "ename": "TypeError",
     "evalue": "can't multiply sequence by non-int of type 'str'",
     "output_type": "error",
     "traceback": [
      "\u001b[1;31m---------------------------------------------------------------------------\u001b[0m",
      "\u001b[1;31mTypeError\u001b[0m                                 Traceback (most recent call last)",
      "Cell \u001b[1;32mIn[5], line 28\u001b[0m\n\u001b[0;32m     25\u001b[0m y\u001b[38;5;241m=\u001b[39m np\u001b[38;5;241m.\u001b[39mmatrix(house_data[analysed])\u001b[38;5;241m.\u001b[39mT\n\u001b[0;32m     27\u001b[0m \u001b[38;5;66;03m# On effectue le calcul exact du paramètre theta\u001b[39;00m\n\u001b[1;32m---> 28\u001b[0m theta \u001b[38;5;241m=\u001b[39m np\u001b[38;5;241m.\u001b[39mlinalg\u001b[38;5;241m.\u001b[39minv(\u001b[43mX\u001b[49m\u001b[38;5;241;43m.\u001b[39;49m\u001b[43mT\u001b[49m\u001b[38;5;241;43m.\u001b[39;49m\u001b[43mdot\u001b[49m\u001b[43m(\u001b[49m\u001b[43mX\u001b[49m\u001b[43m)\u001b[49m)\u001b[38;5;241m.\u001b[39mdot(X\u001b[38;5;241m.\u001b[39mT)\u001b[38;5;241m.\u001b[39mdot (y)\n\u001b[0;32m     30\u001b[0m \u001b[38;5;28mprint\u001b[39m(theta)\n\u001b[0;32m     32\u001b[0m plt\u001b[38;5;241m.\u001b[39mxlabel(\u001b[38;5;124m'\u001b[39m\u001b[38;5;124mActivité\u001b[39m\u001b[38;5;124m'\u001b[39m) \n",
      "\u001b[1;31mTypeError\u001b[0m: can't multiply sequence by non-int of type 'str'"
     ]
    }
   ],
   "source": [
    "# On importe les librairies dont on aura besoin pour ce tp\n",
    "import numpy as np\n",
    "import pandas as pd\n",
    "import matplotlib.pyplot as plt\n",
    "\n",
    "#On charge le dataset\n",
    "house_data = pd.read_csv('export_alimconfiance@dgal.csv', sep=';')\n",
    "#house_data = house_data[house_data['loyer'] < 10000]\n",
    "\n",
    "#convertion des eval\n",
    "house_data['Synthese_eval_sanit'] = house_data['Synthese_eval_sanit'].apply(eval_to_numeric)\n",
    "\n",
    "#définir le nom des colonnes\n",
    "analysed = \"Synthese_eval_sanit\"\n",
    "analysing = \"APP_Libelle_activite_etablissement\"\n",
    "\n",
    "#On affiche le nuage de points dont on dispose\n",
    "#plt.plot(house_data['surface'], house_data['loyer'], 'ro', markersize=4)\n",
    "#plt.show()\n",
    "\n",
    "# On décompose le dataset et on le transforme en matrices pour pouvoir effectuer notre calcul\n",
    "#house_data['sex'].values\n",
    "#house_data['age'].values\n",
    "X = np.matrix( [np.ones (house_data.shape[0]), house_data[analysing].values]).T\n",
    "y= np.matrix(house_data[analysed]).T\n",
    "\n",
    "# On effectue le calcul exact du paramètre theta\n",
    "theta = np.linalg.inv(X.T.dot(X)).dot(X.T).dot (y)\n",
    "\n",
    "print(theta)\n",
    "\n",
    "plt.xlabel('Activité') \n",
    "# plt.xlabel('Sexe') \n",
    "# plt.xlabel('Age') \n",
    "plt.ylabel('Evaluation')\n",
    "\n",
    "plt.plot(house_data[analysing], house_data[analysed], 'ro', markersize=4)\n",
    "\n",
    "# On affiche la droite entre 0 et 5\n",
    "# plt.plot([0,5], [theta.item(0), theta.item(0) + 5 * theta.item(1)], linestyle='--', c='#000000')\n",
    "plt.plot([0,5], [0, 5], linestyle='--', c='#000000')\n",
    "\n",
    "plt.show()"
   ]
  },
  {
   "cell_type": "code",
   "execution_count": null,
   "id": "d12c6b87",
   "metadata": {},
   "outputs": [],
   "source": []
  }
 ],
 "metadata": {
  "kernelspec": {
   "display_name": "Python 3 (ipykernel)",
   "language": "python",
   "name": "python3"
  },
  "language_info": {
   "codemirror_mode": {
    "name": "ipython",
    "version": 3
   },
   "file_extension": ".py",
   "mimetype": "text/x-python",
   "name": "python",
   "nbconvert_exporter": "python",
   "pygments_lexer": "ipython3",
   "version": "3.10.10"
  }
 },
 "nbformat": 4,
 "nbformat_minor": 5
}
