{
 "cells": [
  {
   "cell_type": "code",
   "execution_count": 1,
   "id": "b6c02e59",
   "metadata": {},
   "outputs": [],
   "source": [
    "Restaurant = \"Restaurant\"\n",
    "Boucherie = \"Boucherie\"\n",
    "Boulangerie = \"Boulangerie\"\n",
    "Caves = \"Caves\"\n",
    "Chaine = \"Chaîne\"\n",
    "Transformation = \"Transformation\"\n",
    "Production = \"Production\"\n",
    "Producteur = \"Producteur\"\n",
    "Metier = \"Metier\"\n",
    "Autre = \"Autre\""
   ]
  },
  {
   "cell_type": "code",
   "execution_count": 2,
   "id": "0966a5ce",
   "metadata": {},
   "outputs": [],
   "source": [
    "numeric_to_category = {\n",
    "    0: Autre,\n",
    "    1: Restaurant,\n",
    "    2: Boucherie,\n",
    "    3: Boulangerie,\n",
    "    4: Caves,\n",
    "    5: Chaine,\n",
    "    6: Transformation,\n",
    "    7: Production,\n",
    "    8: Producteur,\n",
    "    9: Metier\n",
    "}"
   ]
  },
  {
   "cell_type": "code",
   "execution_count": 3,
   "id": "36d81a20",
   "metadata": {
    "id": "36d81a20"
   },
   "outputs": [],
   "source": [
    "def to_category(x):\n",
    "        if x.find('Restaurant') >= 0: return Restaurant\n",
    "        if x.find('Boucherie') >= 0: return Boucherie\n",
    "        if x.find('Boulangerie') >= 0: return Boulangerie\n",
    "        if x.find('Caves') >= 0: return Caves\n",
    "        if x.find('Chaîne') >= 0: return Chaine\n",
    "        if x.find('Transformation') >= 0: return Transformation\n",
    "        if x.find('Production') >= 0: return Production\n",
    "        if x.find('Producteur') >= 0: return Producteur\n",
    "        if x.find('Metier') >= 0: return Metier\n",
    "        else: return Autre"
   ]
  },
  {
   "cell_type": "code",
   "execution_count": 4,
   "id": "e8e86e5d",
   "metadata": {},
   "outputs": [],
   "source": [
    "def getCategoryId(x):\n",
    "#         return numeric_to_category.keys()[numeric_to_category.values().index(x)]\n",
    "        for catId, cat in numeric_to_category.items():\n",
    "            if cat == x:\n",
    "                return catId"
   ]
  },
  {
   "cell_type": "code",
   "execution_count": 5,
   "id": "70535980",
   "metadata": {},
   "outputs": [],
   "source": [
    "# Fonction pour convertir les évaluations en valeurs numériques\n",
    "def eval_to_numeric(x):\n",
    "    if x == 'Très satisfaisant':\n",
    "        return 1\n",
    "    if x == 'Satisfaisant':\n",
    "        return 2\n",
    "    if x == 'A améliorer':\n",
    "        return 3\n",
    "    if x == 'A corriger de manière urgente':\n",
    "        return 4"
   ]
  },
  {
   "cell_type": "code",
   "execution_count": 6,
   "id": "ebca17f1",
   "metadata": {
    "id": "ebca17f1",
    "outputId": "a9ff98f3-2a06-4382-868a-e21671811bc7"
   },
   "outputs": [
    {
     "ename": "AttributeError",
     "evalue": "'dict_values' object has no attribute 'index'",
     "output_type": "error",
     "traceback": [
      "\u001b[1;31m---------------------------------------------------------------------------\u001b[0m",
      "\u001b[1;31mAttributeError\u001b[0m                            Traceback (most recent call last)",
      "Cell \u001b[1;32mIn[6], line 19\u001b[0m\n\u001b[0;32m     17\u001b[0m house_data[analysing] \u001b[38;5;241m=\u001b[39m house_data[analysing]\u001b[38;5;241m.\u001b[39mapply(to_category)\n\u001b[0;32m     18\u001b[0m \u001b[38;5;66;03m# Encoder en valeurs numériques\u001b[39;00m\n\u001b[1;32m---> 19\u001b[0m house_data[analysing] \u001b[38;5;241m=\u001b[39m \u001b[43mhouse_data\u001b[49m\u001b[43m[\u001b[49m\u001b[43manalysing\u001b[49m\u001b[43m]\u001b[49m\u001b[38;5;241;43m.\u001b[39;49m\u001b[43mapply\u001b[49m\u001b[43m(\u001b[49m\u001b[43mgetCategoryId\u001b[49m\u001b[43m)\u001b[49m\n\u001b[0;32m     21\u001b[0m \u001b[38;5;66;03m# Séparer les données en fonction des features et de la cible\u001b[39;00m\n\u001b[0;32m     22\u001b[0m X \u001b[38;5;241m=\u001b[39m house_data[[analysing]]\n",
      "File \u001b[1;32mD:\\logiciels\\the_anaconda\\envs\\python\\lib\\site-packages\\pandas\\core\\series.py:4771\u001b[0m, in \u001b[0;36mSeries.apply\u001b[1;34m(self, func, convert_dtype, args, **kwargs)\u001b[0m\n\u001b[0;32m   4661\u001b[0m \u001b[38;5;28;01mdef\u001b[39;00m \u001b[38;5;21mapply\u001b[39m(\n\u001b[0;32m   4662\u001b[0m     \u001b[38;5;28mself\u001b[39m,\n\u001b[0;32m   4663\u001b[0m     func: AggFuncType,\n\u001b[1;32m   (...)\u001b[0m\n\u001b[0;32m   4666\u001b[0m     \u001b[38;5;241m*\u001b[39m\u001b[38;5;241m*\u001b[39mkwargs,\n\u001b[0;32m   4667\u001b[0m ) \u001b[38;5;241m-\u001b[39m\u001b[38;5;241m>\u001b[39m DataFrame \u001b[38;5;241m|\u001b[39m Series:\n\u001b[0;32m   4668\u001b[0m     \u001b[38;5;124;03m\"\"\"\u001b[39;00m\n\u001b[0;32m   4669\u001b[0m \u001b[38;5;124;03m    Invoke function on values of Series.\u001b[39;00m\n\u001b[0;32m   4670\u001b[0m \n\u001b[1;32m   (...)\u001b[0m\n\u001b[0;32m   4769\u001b[0m \u001b[38;5;124;03m    dtype: float64\u001b[39;00m\n\u001b[0;32m   4770\u001b[0m \u001b[38;5;124;03m    \"\"\"\u001b[39;00m\n\u001b[1;32m-> 4771\u001b[0m     \u001b[38;5;28;01mreturn\u001b[39;00m \u001b[43mSeriesApply\u001b[49m\u001b[43m(\u001b[49m\u001b[38;5;28;43mself\u001b[39;49m\u001b[43m,\u001b[49m\u001b[43m \u001b[49m\u001b[43mfunc\u001b[49m\u001b[43m,\u001b[49m\u001b[43m \u001b[49m\u001b[43mconvert_dtype\u001b[49m\u001b[43m,\u001b[49m\u001b[43m \u001b[49m\u001b[43margs\u001b[49m\u001b[43m,\u001b[49m\u001b[43m \u001b[49m\u001b[43mkwargs\u001b[49m\u001b[43m)\u001b[49m\u001b[38;5;241;43m.\u001b[39;49m\u001b[43mapply\u001b[49m\u001b[43m(\u001b[49m\u001b[43m)\u001b[49m\n",
      "File \u001b[1;32mD:\\logiciels\\the_anaconda\\envs\\python\\lib\\site-packages\\pandas\\core\\apply.py:1123\u001b[0m, in \u001b[0;36mSeriesApply.apply\u001b[1;34m(self)\u001b[0m\n\u001b[0;32m   1120\u001b[0m     \u001b[38;5;28;01mreturn\u001b[39;00m \u001b[38;5;28mself\u001b[39m\u001b[38;5;241m.\u001b[39mapply_str()\n\u001b[0;32m   1122\u001b[0m \u001b[38;5;66;03m# self.f is Callable\u001b[39;00m\n\u001b[1;32m-> 1123\u001b[0m \u001b[38;5;28;01mreturn\u001b[39;00m \u001b[38;5;28;43mself\u001b[39;49m\u001b[38;5;241;43m.\u001b[39;49m\u001b[43mapply_standard\u001b[49m\u001b[43m(\u001b[49m\u001b[43m)\u001b[49m\n",
      "File \u001b[1;32mD:\\logiciels\\the_anaconda\\envs\\python\\lib\\site-packages\\pandas\\core\\apply.py:1174\u001b[0m, in \u001b[0;36mSeriesApply.apply_standard\u001b[1;34m(self)\u001b[0m\n\u001b[0;32m   1172\u001b[0m     \u001b[38;5;28;01melse\u001b[39;00m:\n\u001b[0;32m   1173\u001b[0m         values \u001b[38;5;241m=\u001b[39m obj\u001b[38;5;241m.\u001b[39mastype(\u001b[38;5;28mobject\u001b[39m)\u001b[38;5;241m.\u001b[39m_values\n\u001b[1;32m-> 1174\u001b[0m         mapped \u001b[38;5;241m=\u001b[39m \u001b[43mlib\u001b[49m\u001b[38;5;241;43m.\u001b[39;49m\u001b[43mmap_infer\u001b[49m\u001b[43m(\u001b[49m\n\u001b[0;32m   1175\u001b[0m \u001b[43m            \u001b[49m\u001b[43mvalues\u001b[49m\u001b[43m,\u001b[49m\n\u001b[0;32m   1176\u001b[0m \u001b[43m            \u001b[49m\u001b[43mf\u001b[49m\u001b[43m,\u001b[49m\n\u001b[0;32m   1177\u001b[0m \u001b[43m            \u001b[49m\u001b[43mconvert\u001b[49m\u001b[38;5;241;43m=\u001b[39;49m\u001b[38;5;28;43mself\u001b[39;49m\u001b[38;5;241;43m.\u001b[39;49m\u001b[43mconvert_dtype\u001b[49m\u001b[43m,\u001b[49m\n\u001b[0;32m   1178\u001b[0m \u001b[43m        \u001b[49m\u001b[43m)\u001b[49m\n\u001b[0;32m   1180\u001b[0m \u001b[38;5;28;01mif\u001b[39;00m \u001b[38;5;28mlen\u001b[39m(mapped) \u001b[38;5;129;01mand\u001b[39;00m \u001b[38;5;28misinstance\u001b[39m(mapped[\u001b[38;5;241m0\u001b[39m], ABCSeries):\n\u001b[0;32m   1181\u001b[0m     \u001b[38;5;66;03m# GH#43986 Need to do list(mapped) in order to get treated as nested\u001b[39;00m\n\u001b[0;32m   1182\u001b[0m     \u001b[38;5;66;03m#  See also GH#25959 regarding EA support\u001b[39;00m\n\u001b[0;32m   1183\u001b[0m     \u001b[38;5;28;01mreturn\u001b[39;00m obj\u001b[38;5;241m.\u001b[39m_constructor_expanddim(\u001b[38;5;28mlist\u001b[39m(mapped), index\u001b[38;5;241m=\u001b[39mobj\u001b[38;5;241m.\u001b[39mindex)\n",
      "File \u001b[1;32mD:\\logiciels\\the_anaconda\\envs\\python\\lib\\site-packages\\pandas\\_libs\\lib.pyx:2924\u001b[0m, in \u001b[0;36mpandas._libs.lib.map_infer\u001b[1;34m()\u001b[0m\n",
      "Cell \u001b[1;32mIn[4], line 2\u001b[0m, in \u001b[0;36mgetCategoryId\u001b[1;34m(x)\u001b[0m\n\u001b[0;32m      1\u001b[0m \u001b[38;5;28;01mdef\u001b[39;00m \u001b[38;5;21mgetCategoryId\u001b[39m(x):\n\u001b[1;32m----> 2\u001b[0m         \u001b[38;5;28;01mreturn\u001b[39;00m numeric_to_category\u001b[38;5;241m.\u001b[39mkeys()[\u001b[43mnumeric_to_category\u001b[49m\u001b[38;5;241;43m.\u001b[39;49m\u001b[43mvalues\u001b[49m\u001b[43m(\u001b[49m\u001b[43m)\u001b[49m\u001b[38;5;241;43m.\u001b[39;49m\u001b[43mindex\u001b[49m(x)]\n",
      "\u001b[1;31mAttributeError\u001b[0m: 'dict_values' object has no attribute 'index'"
     ]
    }
   ],
   "source": [
    "import numpy as np\n",
    "import pandas as pd\n",
    "import matplotlib.pyplot as plt\n",
    "from sklearn.tree import DecisionTreeClassifier\n",
    "from sklearn.model_selection import train_test_split\n",
    "from sklearn.preprocessing import LabelEncoder\n",
    "from sklearn.metrics import accuracy_score, confusion_matrix\n",
    "\n",
    "# Charger le dataset\n",
    "house_data = pd.read_csv('export_alimconfiance@dgal.csv', sep=';')\n",
    "\n",
    "#définir le nom des colonnes\n",
    "analysed = \"Synthese_eval_sanit\"\n",
    "analysing = \"APP_Libelle_activite_etablissement\"\n",
    "\n",
    "# Convertion des activités\n",
    "house_data[analysing] = house_data[analysing].apply(to_category)\n",
    "# Encoder en valeurs numériques\n",
    "house_data[analysing] = house_data[analysing].apply(getCategoryId)\n",
    "\n",
    "# Séparer les données en fonction des features et de la cible\n",
    "X = house_data[[analysing]]\n",
    "y = house_data[analysed]\n",
    "\n",
    "# Convertir les évaluations en valeurs numériques\n",
    "y = y.apply(eval_to_numeric)\n",
    "\n",
    "# Diviser les données en ensembles d'entraînement et de test\n",
    "X_train, X_test, y_train, y_test = train_test_split(X, y, test_size=0.2, random_state=42)\n",
    "\n",
    "# Créer l'arbre de décision\n",
    "tree_classifier = DecisionTreeClassifier()\n",
    "tree_classifier.fit(X_train, y_train)\n",
    "\n",
    "# Prédire les évaluations sur l'ensemble de test\n",
    "y_pred = tree_classifier.predict(X_test)\n",
    "\n",
    "# Calculer la précision du modèle\n",
    "accuracy = accuracy_score(y_test, y_pred)\n",
    "print(\"Accuracy:\", accuracy)\n",
    "\n",
    "#Mapper les valeurs numériques aux mots correspondants pour l'axe x\n",
    "X_test_series = X_test.squeeze()\n",
    "X_test_map = X_test_series.map(numeric_to_category)\n",
    "\n",
    "# Visualisation des résultats\n",
    "plt.xlabel('Activité')\n",
    "plt.ylabel('Evaluation')\n",
    "plt.yticks([1, 2, 3, 4])\n",
    "plt.xticks(rotation = 90)\n",
    "plt.scatter(X_test_map, y_test, color='red', label='True')\n",
    "plt.scatter(X_test_map, y_pred, color='blue', label='Predicted')\n",
    "plt.legend()\n",
    "plt.show()\n"
   ]
  },
  {
   "cell_type": "code",
   "execution_count": null,
   "id": "0e3a6424",
   "metadata": {},
   "outputs": [],
   "source": []
  }
 ],
 "metadata": {
  "colab": {
   "provenance": []
  },
  "kernelspec": {
   "display_name": "Python 3 (ipykernel)",
   "language": "python",
   "name": "python3"
  },
  "language_info": {
   "codemirror_mode": {
    "name": "ipython",
    "version": 3
   },
   "file_extension": ".py",
   "mimetype": "text/x-python",
   "name": "python",
   "nbconvert_exporter": "python",
   "pygments_lexer": "ipython3",
   "version": "3.10.10"
  }
 },
 "nbformat": 4,
 "nbformat_minor": 5
}
