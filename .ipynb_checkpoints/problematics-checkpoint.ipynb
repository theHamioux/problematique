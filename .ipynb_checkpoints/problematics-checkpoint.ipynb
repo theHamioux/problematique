{
 "cells": [
  {
   "cell_type": "code",
   "execution_count": 71,
   "id": "36d81a20",
   "metadata": {
    "id": "36d81a20"
   },
   "outputs": [],
   "source": [
    "def to_category(x):\n",
    "        if x.find('Restaurant') >= 0: return 'Restaurant'\n",
    "        if x.find('Boucherie') >= 0: return 'Boucherie'\n",
    "        if x.find('Boulangerie') >= 0: return 'Boulangerie'\n",
    "        if x.find('Caves') >= 0: return 'Caves'\n",
    "        if x.find('Chaîne') >= 0: return 'Chaîne'\n",
    "        if x.find('Transformation') >= 0: return 'Transformation'\n",
    "        if x.find('Production') >= 0: return 'Production'\n",
    "        if x.find('Producteur') >= 0: return 'Producteur'\n",
    "        if x.find('Metier') >= 0: return 'Metier'\n",
    "        else: return 'Autre'"
   ]
  },
  {
   "cell_type": "code",
   "execution_count": 72,
   "id": "70535980",
   "metadata": {},
   "outputs": [],
   "source": [
    "# Fonction pour convertir les évaluations en valeurs numériques\n",
    "def eval_to_numeric(x):\n",
    "    if x == 'Très satisfaisant':\n",
    "        return 1\n",
    "    if x == 'Satisfaisant':\n",
    "        return 2\n",
    "    if x == 'A améliorer':\n",
    "        return 3\n",
    "    if x == 'A corriger de manière urgente':\n",
    "        return 4"
   ]
  },
  {
   "cell_type": "code",
   "execution_count": 73,
   "id": "ebca17f1",
   "metadata": {
    "id": "ebca17f1",
    "outputId": "a9ff98f3-2a06-4382-868a-e21671811bc7"
   },
   "outputs": [
    {
     "name": "stdout",
     "output_type": "stream",
     "text": [
      "Accuracy: 0.5733496332518337\n"
     ]
    },
    {
     "data": {
      "image/png": "[encoded data removed]",
      "text/plain": [
       "<Figure size 640x480 with 1 Axes>"
      ]
     },
     "metadata": {},
     "output_type": "display_data"
    }
   ],
   "source": [
    "import numpy as np\n",
    "import pandas as pd\n",
    "import matplotlib.pyplot as plt\n",
    "from sklearn.tree import DecisionTreeClassifier\n",
    "from sklearn.model_selection import train_test_split\n",
    "from sklearn.preprocessing import LabelEncoder\n",
    "from sklearn.metrics import accuracy_score, confusion_matrix\n",
    "\n",
    "# Charger le dataset\n",
    "house_data = pd.read_csv('export_alimconfiance@dgal.csv', sep=';')\n",
    "\n",
    "#définir le nom des colonnes\n",
    "analysed = \"Synthese_eval_sanit\"\n",
    "analysing = \"APP_Libelle_activite_etablissement\"\n",
    "\n",
    "# Convertir les évaluations en valeurs numériques\n",
    "house_data[analysed] = house_data[analysed].apply(eval_to_numeric)\n",
    "#convertion des activités\n",
    "house_data[analysing] = house_data[analysing].apply(to_category)\n",
    "\n",
    "# Encoder la colonne 'APP_Libelle_activite_etablissement' en valeurs numériques\n",
    "label_encoder = LabelEncoder()\n",
    "house_data[analysing] = label_encoder.fit_transform(house_data[analysing])\n",
    "\n",
    "# Séparer les données en fonction des features et de la cible\n",
    "X = house_data[[analysing]]\n",
    "y = house_data[analysed]\n",
    "\n",
    "# Diviser les données en ensembles d'entraînement et de test\n",
    "X_train, X_test, y_train, y_test = train_test_split(X, y, test_size=0.2, random_state=42)\n",
    "\n",
    "# Créer l'arbre de décision\n",
    "tree_classifier = DecisionTreeClassifier()\n",
    "tree_classifier.fit(X_train, y_train)\n",
    "\n",
    "# Prédire les évaluations sur l'ensemble de test\n",
    "y_pred = tree_classifier.predict(X_test)\n",
    "\n",
    "# Calculer la précision du modèle\n",
    "accuracy = accuracy_score(y_test, y_pred)\n",
    "print(\"Accuracy:\", accuracy)\n",
    "\n",
    "# Visualisation des résultats\n",
    "plt.xlabel('Activité')\n",
    "plt.ylabel('Evaluation')\n",
    "plt.yticks([1, 2, 3, 4])\n",
    "plt.scatter(X_test, y_test, color='red', label='True')\n",
    "plt.scatter(X_test, y_pred, color='blue', label='Predicted')\n",
    "plt.legend()\n",
    "plt.show()\n"
   ]
  },
  {
   "cell_type": "code",
   "execution_count": null,
   "id": "bf896181",
   "metadata": {},
   "outputs": [],
   "source": []
  }
 ],
 "metadata": {
  "colab": {
   "provenance": []
  },
  "kernelspec": {
   "display_name": "Python 3 (ipykernel)",
   "language": "python",
   "name": "python3"
  },
  "language_info": {
   "codemirror_mode": {
    "name": "ipython",
    "version": 3
   },
   "file_extension": ".py",
   "mimetype": "text/x-python",
   "name": "python",
   "nbconvert_exporter": "python",
   "pygments_lexer": "ipython3",
   "version": "3.10.10"
  }
 },
 "nbformat": 4,
 "nbformat_minor": 5
}
